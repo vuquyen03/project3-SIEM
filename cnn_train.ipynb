{
  "cells": [
    {
      "cell_type": "markdown",
      "metadata": {
        "id": "Wp0VUmTf1GFC"
      },
      "source": [
        "\n",
        "# Connect to Google Drive\n",
        "\n"
      ]
    },
    {
      "cell_type": "code",
      "execution_count": null,
      "metadata": {
        "colab": {
          "base_uri": "https://localhost:8080/"
        },
        "id": "RaLfrAzO1Kwj",
        "outputId": "7df16e7c-eab6-4b0d-b82e-94c7d68a23e2"
      },
      "outputs": [
        {
          "name": "stdout",
          "output_type": "stream",
          "text": [
            "Mounted at /content/drive\n"
          ]
        }
      ],
      "source": [
        "from google.colab import drive\n",
        "drive.mount('/content/drive')"
      ]
    },
    {
      "cell_type": "code",
      "execution_count": null,
      "metadata": {
        "id": "tJ3qf0QsgBcu"
      },
      "outputs": [],
      "source": [
        "import os\n",
        "import pandas as pd\n",
        "import numpy as np\n",
        "import matplotlib.pyplot as plt\n",
        "from tensorflow.keras.preprocessing.text import Tokenizer\n",
        "from tensorflow.keras.preprocessing.sequence import pad_sequences\n"
      ]
    },
    {
      "cell_type": "code",
      "execution_count": null,
      "metadata": {
        "colab": {
          "base_uri": "https://localhost:8080/"
        },
        "id": "aIOMXYYNxMZ8",
        "outputId": "60c9e14f-ce4f-41c7-dcd4-e677ac62c261"
      },
      "outputs": [
        {
          "name": "stdout",
          "output_type": "stream",
          "text": [
            "Folder '/content/drive/My Drive/WebDetection/' is exist.\n"
          ]
        }
      ],
      "source": [
        "base_path = '/content/drive/My Drive/WebDetection/'\n",
        "if os.path.exists(base_path):\n",
        "    print(f\"Folder '{base_path}' is exist.\")\n",
        "else:\n",
        "    print(f\"Folder '{base_path}' isn't exist.\")"
      ]
    },
    {
      "cell_type": "code",
      "execution_count": null,
      "metadata": {
        "id": "qr-O9hgCSwrG"
      },
      "outputs": [],
      "source": [
        "train=pd.read_csv(base_path+'dataset/csic_database.csv')"
      ]
    },
    {
      "cell_type": "code",
      "execution_count": null,
      "metadata": {
        "id": "SvlCpbK1TDPY"
      },
      "outputs": [],
      "source": [
        "df_train = train.copy()"
      ]
    },
    {
      "cell_type": "code",
      "execution_count": null,
      "metadata": {
        "colab": {
          "base_uri": "https://localhost:8080/"
        },
        "id": "YS4hQ6qhizP3",
        "outputId": "691e858e-8055-44ef-facf-c3d4524df5f9"
      },
      "outputs": [
        {
          "name": "stdout",
          "output_type": "stream",
          "text": [
            "url: http://localhost:8080/tienda1/publico/autenticar.jsp?modo=entrar&login=magrath&pwd=1an0re%E15354&remember=off&B1=Entrar\n",
            "label: 0\n",
            "\n"
          ]
        }
      ],
      "source": [
        "# Thay NaN bằng chuỗi rỗng\n",
        "df_train['content'] = df_train['content'].fillna('')\n",
        "df_train['url_clean'] = df_train['URL'].apply(lambda x: x.split(' ')[0])\n",
        "\n",
        "url_train = df_train.apply(lambda row: f\"{row['url_clean']}?{row['content']}\" if row['content'] else row['url_clean'], axis=1)\n",
        "label_train = df_train['classification']\n",
        "\n",
        "\n",
        "print(\"url: %s\" % url_train[40])\n",
        "print(\"label: %s\\n\" % label_train[0])"
      ]
    },
    {
      "cell_type": "code",
      "execution_count": null,
      "metadata": {
        "colab": {
          "base_uri": "https://localhost:8080/"
        },
        "id": "5m82A5lGkHzE",
        "outputId": "4274b720-352d-47ad-959a-2a681c987344"
      },
      "outputs": [
        {
          "name": "stdout",
          "output_type": "stream",
          "text": [
            "Type of label\n",
            "{0: 0, 1: 1}\n",
            "Number of classes: 2\n"
          ]
        }
      ],
      "source": [
        "labels_type = pd.Series(label_train).value_counts().keys().tolist()\n",
        "type_dict = {label: idx for idx, label in enumerate(labels_type)}\n",
        "print(\"Type of label\")\n",
        "print(type_dict)\n",
        "\n",
        "num_classes = len(type_dict)\n",
        "print(\"Number of classes: %d\" % num_classes)\n"
      ]
    },
    {
      "cell_type": "code",
      "execution_count": null,
      "metadata": {
        "colab": {
          "base_uri": "https://localhost:8080/"
        },
        "id": "PCSXkgmSlYUS",
        "outputId": "0d8b0d9d-be48-40e2-efd4-4efed5e2ee83"
      },
      "outputs": [
        {
          "name": "stdout",
          "output_type": "stream",
          "text": [
            "The size of the vocabulary is 75\n",
            "Vocabulary:\n",
            "{'a': 1, 'b': 2, 'c': 3, 'd': 4, 'e': 5, 'f': 6, 'g': 7, 'h': 8, 'i': 9, 'j': 10, 'k': 11, 'l': 12, 'm': 13, 'n': 14, 'o': 15, 'p': 16, 'q': 17, 'r': 18, 's': 19, 't': 20, 'u': 21, 'v': 22, 'w': 23, 'x': 24, 'y': 25, 'z': 26, '0': 27, '1': 28, '2': 29, '3': 30, '4': 31, '5': 32, '6': 33, '7': 34, '8': 35, '9': 36, '!': 37, '\"': 38, '#': 39, '$': 40, '%': 41, '&': 42, \"'\": 43, '(': 44, ')': 45, '*': 46, '+': 47, ',': 48, '-': 49, '.': 50, '/': 51, ':': 52, ';': 53, '<': 54, '=': 55, '>': 56, '?': 57, '@': 58, '[': 59, '\\\\': 60, ']': 61, '^': 62, '_': 63, '`': 64, '{': 65, '|': 66, '}': 67, '~': 68, ' ': 69, '\\t': 70, '\\n': 71, '\\r': 72, '\\x0b': 73, '\\x0c': 74}\n"
          ]
        }
      ],
      "source": [
        "import json\n",
        "import string\n",
        "tokenizer = Tokenizer(filters='\\t\\n', char_level=True)  # Create a tokenizer with character-level tokenization, ignoring tabs and newlines\n",
        "alphabet = string.printable\n",
        "\n",
        "tokenizer.fit_on_texts(alphabet)  # Fit the tokenizer on the training data (url_train)\n",
        "\n",
        "num_words = len(tokenizer.word_index) + 1  # Get the total number of unique tokens (add 1 for padding or special tokens)\n",
        "vocab = tokenizer.word_index  # Retrieve the vocabulary (mapping of tokens to indices)\n",
        "print(\"The size of the vocabulary is %d\" % num_words)  # Print the vocabulary size\n",
        "print(\"Vocabulary:\")\n",
        "print(vocab)  # Print the vocabulary dictionary\n"
      ]
    },
    {
      "cell_type": "code",
      "execution_count": null,
      "metadata": {
        "id": "LEvO6bUDta0x"
      },
      "outputs": [],
      "source": [
        "def get_one_hot_value(s):\n",
        "    return [0 if i!= type_dict[s] else 1 for i in range(2)]"
      ]
    },
    {
      "cell_type": "code",
      "execution_count": null,
      "metadata": {
        "colab": {
          "base_uri": "https://localhost:8080/"
        },
        "id": "vA6_4PS_r1V7",
        "outputId": "b7dbe138-d36f-4f85-b3a5-761e2699e46d"
      },
      "outputs": [
        {
          "name": "stdout",
          "output_type": "stream",
          "text": [
            "341.0\n"
          ]
        }
      ],
      "source": [
        "url_train_lens = [len(u) for u in url_train]\n",
        "print(np.percentile(np.array(url_train_lens),98))"
      ]
    },
    {
      "cell_type": "code",
      "execution_count": null,
      "metadata": {
        "colab": {
          "base_uri": "https://localhost:8080/"
        },
        "id": "Bv7fWqn7tFVM",
        "outputId": "6ee31ef1-42d7-4fb1-8b16-8f8edeba96ae"
      },
      "outputs": [
        {
          "name": "stdout",
          "output_type": "stream",
          "text": [
            "=================================================================================================\n",
            "url: http://localhost:8080/tienda1/index.jsp\n",
            "label: 0\n",
            "\n",
            "url_vec: [ 0  0  0  0  0  0  0  0  0  0  0  0  0  0  0  0  0  0  0  0  0  0  0  0\n",
            "  0  0  0  0  0  0  0  0  0  0  0  0  0  0  0  0  0  0  0  0  0  0  0  0\n",
            "  0  0  0  0  0  0  0  0  0  0  0  0  0  0  0  0  0  0  0  0  0  0  0  0\n",
            "  0  0  0  0  0  0  0  0  0  0  0  0  0  0  0  0  0  0  0  0  0  0  0  0\n",
            "  0  0  0  0  0  0  0  0  0  0  0  0  0  0  0  0  0  0  0  0  0  0  0  0\n",
            "  0  0  0  0  0  0  0  0  0  0  0  0  0  0  0  0  0  0  0  0  0  0  0  0\n",
            "  0  0  0  0  0  0  0  0  0  0  0  0  0  0  0  0  0  0  0  0  0  0  0  0\n",
            "  0  0  0  0  0  0  0  0  0  0  0  0  0  0  0  0  0  0  0  0  0  0  0  0\n",
            "  0  0  0  0  0  0  0  0  0  0  0  0  0  0  0  0  0  0  0  0  0  0  0  0\n",
            "  0  0  0  0  0  0  0  0  0  0  0  0  0  0  0  0  0  0  0  0  0  0  0  0\n",
            "  0  0  0  0  0  0  0  0  0  0  0  0  0  0  0  0  0  0  0  0  0  0  0  0\n",
            "  0  0  0  0  0  0  0  0  0  0  0  0  0  0  0  0  0  0  0  0  0  0  0  0\n",
            "  0  0  0  0  0  0  0  0  0  0  0  0  0  0  0  0  0  0  0  0  0  0  0  0\n",
            "  0  0  0  0  0  0  0  0  0  0  0  0  0  0  0  0  0  0  0  0  0  0  0  0\n",
            "  0  0  0  0  0  0  0  0  0  0  0  0  0  0  0  0  0  0  0  0  0  0  0  0\n",
            "  0  8 20 20 16 52 51 51 12 15  3  1 12  8 15 19 20 52 35 27 35 27 51 20\n",
            "  9  5 14  4  1 28 51  9 14  4  5 24 50 10 19 16]\n",
            "label_one_hot: [1, 0]\n",
            "=================================================================================================\n"
          ]
        }
      ],
      "source": [
        "max_len = 400\n",
        "\n",
        "seq_train = tokenizer.texts_to_sequences(url_train)\n",
        "\n",
        "X_train = pad_sequences(seq_train, maxlen=max_len)\n",
        "\n",
        "Y_train = [get_one_hot_value(l) for l in label_train]\n",
        "print(\"=================================================================================================\")\n",
        "\n",
        "print(\"url: %s\" % url_train[0])\n",
        "print(\"label: %s\\n\" % label_train[0])\n",
        "\n",
        "print(\"url_vec: \" + str(X_train[0]))\n",
        "print(\"label_one_hot: \" + str(Y_train[0]))\n",
        "print(\"=================================================================================================\")"
      ]
    },
    {
      "cell_type": "markdown",
      "metadata": {
        "id": "VARPQQGn1WF-"
      },
      "source": [
        "# Convert into image\n",
        "\n"
      ]
    },
    {
      "cell_type": "code",
      "execution_count": null,
      "metadata": {
        "colab": {
          "base_uri": "https://localhost:8080/"
        },
        "id": "Wdk72rcDxfOT",
        "outputId": "1eb08c02-dc50-4cd1-f3e4-af306ed5ac52"
      },
      "outputs": [
        {
          "name": "stdout",
          "output_type": "stream",
          "text": [
            "Hoàn thành tạo và phân loại ảnh!\n"
          ]
        }
      ],
      "source": [
        "# # Convert into image\n",
        "\n",
        "# import numpy as np\n",
        "# from PIL import Image\n",
        "\n",
        "# seq_train = pad_sequences(seq_train, maxlen=max_len)\n",
        "\n",
        "# normal_folder = os.path.join(base_path, 'images/normal/')\n",
        "# anomalous_folder = os.path.join(base_path, 'images/anomalous/')\n",
        "\n",
        "# # Make sure the folder where the images are stored exists\n",
        "# os.makedirs(normal_folder, exist_ok=True)\n",
        "# os.makedirs(anomalous_folder, exist_ok=True)\n",
        "\n",
        "# image_size=(20, 20)\n",
        "\n",
        "# for i, row in df_train.iterrows():\n",
        "#     label = row['Label']\n",
        "#     sequence = seq_train[i]\n",
        "\n",
        "#     seq_padded = pad_sequences([sequence], maxlen=image_size[0] * image_size[1], padding='post', truncating='post')[0]\n",
        "#     matrix = np.array(seq_padded).reshape(image_size)\n",
        "\n",
        "#     img = Image.fromarray(matrix, mode='L')\n",
        "\n",
        "#     if label == 'Normal':\n",
        "#         target_folder = normal_folder\n",
        "#     elif label == 'Anomalous':\n",
        "#         target_folder = anomalous_folder\n",
        "#     else:\n",
        "#         continue  # Bỏ qua nếu nhãn không hợp lệ\n",
        "\n",
        "#     img_path = os.path.join(target_folder, f\"image_{i}.png\")\n",
        "#     try:\n",
        "#         img.save(img_path)\n",
        "#     except Exception as e:\n",
        "#         print(f\"Lỗi khi lưu ảnh {img_path}: {e}\")\n",
        "\n",
        "\n",
        "# print(\"Hoàn thành tạo và phân loại ảnh!\")"
      ]
    },
    {
      "cell_type": "markdown",
      "metadata": {
        "id": "SWI34OOU1O3D"
      },
      "source": [
        "\n",
        "\n",
        "# Training CNN\n"
      ]
    },
    {
      "cell_type": "code",
      "execution_count": null,
      "metadata": {
        "id": "gpAE2Uw00yFT"
      },
      "outputs": [],
      "source": [
        "from tensorflow.keras.layers import Conv2D, MaxPooling2D, Flatten, Dense, Dropout, BatchNormalization, Rescaling, Embedding, GlobalMaxPooling1D, MaxPooling1D, Conv1D\n",
        "from tensorflow.keras.models import load_model, Sequential\n",
        "from tensorflow.keras.callbacks import TensorBoard\n",
        "from tensorflow.keras.metrics import Precision, Recall\n",
        "from sklearn import metrics"
      ]
    },
    {
      "cell_type": "code",
      "execution_count": null,
      "metadata": {
        "colab": {
          "base_uri": "https://localhost:8080/",
          "height": 409
        },
        "id": "F0R86um6UpeZ",
        "outputId": "bde3790c-7553-4206-c1c0-b6f1d76949d7"
      },
      "outputs": [
        {
          "name": "stderr",
          "output_type": "stream",
          "text": [
            "/usr/local/lib/python3.10/dist-packages/keras/src/layers/core/embedding.py:90: UserWarning: Argument `input_length` is deprecated. Just remove it.\n",
            "  warnings.warn(\n"
          ]
        },
        {
          "data": {
            "text/html": [
              "<pre style=\"white-space:pre;overflow-x:auto;line-height:normal;font-family:Menlo,'DejaVu Sans Mono',consolas,'Courier New',monospace\"><span style=\"font-weight: bold\">Model: \"sequential\"</span>\n",
              "</pre>\n"
            ],
            "text/plain": [
              "\u001b[1mModel: \"sequential\"\u001b[0m\n"
            ]
          },
          "metadata": {},
          "output_type": "display_data"
        },
        {
          "data": {
            "text/html": [
              "<pre style=\"white-space:pre;overflow-x:auto;line-height:normal;font-family:Menlo,'DejaVu Sans Mono',consolas,'Courier New',monospace\">┏━━━━━━━━━━━━━━━━━━━━━━━━━━━━━━━━━━━━━━┳━━━━━━━━━━━━━━━━━━━━━━━━━━━━━┳━━━━━━━━━━━━━━━━━┓\n",
              "┃<span style=\"font-weight: bold\"> Layer (type)                         </span>┃<span style=\"font-weight: bold\"> Output Shape                </span>┃<span style=\"font-weight: bold\">         Param # </span>┃\n",
              "┡━━━━━━━━━━━━━━━━━━━━━━━━━━━━━━━━━━━━━━╇━━━━━━━━━━━━━━━━━━━━━━━━━━━━━╇━━━━━━━━━━━━━━━━━┩\n",
              "│ embedding (<span style=\"color: #0087ff; text-decoration-color: #0087ff\">Embedding</span>)                │ ?                           │     <span style=\"color: #00af00; text-decoration-color: #00af00\">0</span> (unbuilt) │\n",
              "├──────────────────────────────────────┼─────────────────────────────┼─────────────────┤\n",
              "│ conv1d (<span style=\"color: #0087ff; text-decoration-color: #0087ff\">Conv1D</span>)                      │ ?                           │     <span style=\"color: #00af00; text-decoration-color: #00af00\">0</span> (unbuilt) │\n",
              "├──────────────────────────────────────┼─────────────────────────────┼─────────────────┤\n",
              "│ max_pooling1d (<span style=\"color: #0087ff; text-decoration-color: #0087ff\">MaxPooling1D</span>)         │ ?                           │     <span style=\"color: #00af00; text-decoration-color: #00af00\">0</span> (unbuilt) │\n",
              "├──────────────────────────────────────┼─────────────────────────────┼─────────────────┤\n",
              "│ conv1d_1 (<span style=\"color: #0087ff; text-decoration-color: #0087ff\">Conv1D</span>)                    │ ?                           │     <span style=\"color: #00af00; text-decoration-color: #00af00\">0</span> (unbuilt) │\n",
              "├──────────────────────────────────────┼─────────────────────────────┼─────────────────┤\n",
              "│ global_max_pooling1d                 │ ?                           │     <span style=\"color: #00af00; text-decoration-color: #00af00\">0</span> (unbuilt) │\n",
              "│ (<span style=\"color: #0087ff; text-decoration-color: #0087ff\">GlobalMaxPooling1D</span>)                 │                             │                 │\n",
              "├──────────────────────────────────────┼─────────────────────────────┼─────────────────┤\n",
              "│ dense (<span style=\"color: #0087ff; text-decoration-color: #0087ff\">Dense</span>)                        │ ?                           │     <span style=\"color: #00af00; text-decoration-color: #00af00\">0</span> (unbuilt) │\n",
              "└──────────────────────────────────────┴─────────────────────────────┴─────────────────┘\n",
              "</pre>\n"
            ],
            "text/plain": [
              "┏━━━━━━━━━━━━━━━━━━━━━━━━━━━━━━━━━━━━━━┳━━━━━━━━━━━━━━━━━━━━━━━━━━━━━┳━━━━━━━━━━━━━━━━━┓\n",
              "┃\u001b[1m \u001b[0m\u001b[1mLayer (type)                        \u001b[0m\u001b[1m \u001b[0m┃\u001b[1m \u001b[0m\u001b[1mOutput Shape               \u001b[0m\u001b[1m \u001b[0m┃\u001b[1m \u001b[0m\u001b[1m        Param #\u001b[0m\u001b[1m \u001b[0m┃\n",
              "┡━━━━━━━━━━━━━━━━━━━━━━━━━━━━━━━━━━━━━━╇━━━━━━━━━━━━━━━━━━━━━━━━━━━━━╇━━━━━━━━━━━━━━━━━┩\n",
              "│ embedding (\u001b[38;5;33mEmbedding\u001b[0m)                │ ?                           │     \u001b[38;5;34m0\u001b[0m (unbuilt) │\n",
              "├──────────────────────────────────────┼─────────────────────────────┼─────────────────┤\n",
              "│ conv1d (\u001b[38;5;33mConv1D\u001b[0m)                      │ ?                           │     \u001b[38;5;34m0\u001b[0m (unbuilt) │\n",
              "├──────────────────────────────────────┼─────────────────────────────┼─────────────────┤\n",
              "│ max_pooling1d (\u001b[38;5;33mMaxPooling1D\u001b[0m)         │ ?                           │     \u001b[38;5;34m0\u001b[0m (unbuilt) │\n",
              "├──────────────────────────────────────┼─────────────────────────────┼─────────────────┤\n",
              "│ conv1d_1 (\u001b[38;5;33mConv1D\u001b[0m)                    │ ?                           │     \u001b[38;5;34m0\u001b[0m (unbuilt) │\n",
              "├──────────────────────────────────────┼─────────────────────────────┼─────────────────┤\n",
              "│ global_max_pooling1d                 │ ?                           │     \u001b[38;5;34m0\u001b[0m (unbuilt) │\n",
              "│ (\u001b[38;5;33mGlobalMaxPooling1D\u001b[0m)                 │                             │                 │\n",
              "├──────────────────────────────────────┼─────────────────────────────┼─────────────────┤\n",
              "│ dense (\u001b[38;5;33mDense\u001b[0m)                        │ ?                           │     \u001b[38;5;34m0\u001b[0m (unbuilt) │\n",
              "└──────────────────────────────────────┴─────────────────────────────┴─────────────────┘\n"
            ]
          },
          "metadata": {},
          "output_type": "display_data"
        },
        {
          "data": {
            "text/html": [
              "<pre style=\"white-space:pre;overflow-x:auto;line-height:normal;font-family:Menlo,'DejaVu Sans Mono',consolas,'Courier New',monospace\"><span style=\"font-weight: bold\"> Total params: </span><span style=\"color: #00af00; text-decoration-color: #00af00\">0</span> (0.00 B)\n",
              "</pre>\n"
            ],
            "text/plain": [
              "\u001b[1m Total params: \u001b[0m\u001b[38;5;34m0\u001b[0m (0.00 B)\n"
            ]
          },
          "metadata": {},
          "output_type": "display_data"
        },
        {
          "data": {
            "text/html": [
              "<pre style=\"white-space:pre;overflow-x:auto;line-height:normal;font-family:Menlo,'DejaVu Sans Mono',consolas,'Courier New',monospace\"><span style=\"font-weight: bold\"> Trainable params: </span><span style=\"color: #00af00; text-decoration-color: #00af00\">0</span> (0.00 B)\n",
              "</pre>\n"
            ],
            "text/plain": [
              "\u001b[1m Trainable params: \u001b[0m\u001b[38;5;34m0\u001b[0m (0.00 B)\n"
            ]
          },
          "metadata": {},
          "output_type": "display_data"
        },
        {
          "data": {
            "text/html": [
              "<pre style=\"white-space:pre;overflow-x:auto;line-height:normal;font-family:Menlo,'DejaVu Sans Mono',consolas,'Courier New',monospace\"><span style=\"font-weight: bold\"> Non-trainable params: </span><span style=\"color: #00af00; text-decoration-color: #00af00\">0</span> (0.00 B)\n",
              "</pre>\n"
            ],
            "text/plain": [
              "\u001b[1m Non-trainable params: \u001b[0m\u001b[38;5;34m0\u001b[0m (0.00 B)\n"
            ]
          },
          "metadata": {},
          "output_type": "display_data"
        },
        {
          "name": "stdout",
          "output_type": "stream",
          "text": [
            "None\n"
          ]
        }
      ],
      "source": [
        "model = Sequential([\n",
        "    Embedding(num_words, 64, input_length=max_len),\n",
        "    Conv1D(256, 7, activation='relu'),\n",
        "    MaxPooling1D(3),\n",
        "    Conv1D(256, 7, activation='relu'),\n",
        "    GlobalMaxPooling1D(),\n",
        "    Dense(2, activation='softmax'),\n",
        "])\n",
        "\n",
        "model.compile(\n",
        "    loss='categorical_crossentropy',\n",
        "    optimizer='adam',\n",
        "    metrics=[Precision(), Recall()]\n",
        "    )\n",
        "\n",
        "print(model.summary())\n"
      ]
    },
    {
      "cell_type": "code",
      "execution_count": null,
      "metadata": {
        "id": "tUGxWggqoIDi"
      },
      "outputs": [],
      "source": [
        "from sklearn.model_selection import train_test_split\n",
        "\n",
        "X_train = np.array(X_train)\n",
        "Y_train = np.array(Y_train)\n",
        "# Chia X_train, Y_train thành dữ liệu huấn luyện và validation\n",
        "X_train_split, X_test_split, Y_train_split, Y_test_split = train_test_split(X_train, Y_train, test_size=0.3, random_state=42)"
      ]
    },
    {
      "cell_type": "code",
      "execution_count": null,
      "metadata": {
        "colab": {
          "base_uri": "https://localhost:8080/"
        },
        "id": "OFV6n-CmRJCS",
        "outputId": "841705b8-3848-4faf-ea3a-cd0d08fc11be"
      },
      "outputs": [
        {
          "name": "stdout",
          "output_type": "stream",
          "text": [
            "Epoch 1/7\n",
            "\u001b[1m251/251\u001b[0m \u001b[32m━━━━━━━━━━━━━━━━━━━━\u001b[0m\u001b[37m\u001b[0m \u001b[1m20s\u001b[0m 53ms/step - loss: 0.3455 - precision: 0.8194 - recall: 0.8194 - val_loss: 0.0792 - val_precision: 0.9740 - val_recall: 0.9740\n",
            "Epoch 2/7\n",
            "\u001b[1m251/251\u001b[0m \u001b[32m━━━━━━━━━━━━━━━━━━━━\u001b[0m\u001b[37m\u001b[0m \u001b[1m9s\u001b[0m 34ms/step - loss: 0.0834 - precision: 0.9736 - recall: 0.9736 - val_loss: 0.0697 - val_precision: 0.9786 - val_recall: 0.9786\n",
            "Epoch 3/7\n",
            "\u001b[1m251/251\u001b[0m \u001b[32m━━━━━━━━━━━━━━━━━━━━\u001b[0m\u001b[37m\u001b[0m \u001b[1m9s\u001b[0m 31ms/step - loss: 0.0682 - precision: 0.9793 - recall: 0.9793 - val_loss: 0.0744 - val_precision: 0.9782 - val_recall: 0.9782\n",
            "Epoch 4/7\n",
            "\u001b[1m251/251\u001b[0m \u001b[32m━━━━━━━━━━━━━━━━━━━━\u001b[0m\u001b[37m\u001b[0m \u001b[1m8s\u001b[0m 32ms/step - loss: 0.0558 - precision: 0.9845 - recall: 0.9845 - val_loss: 0.0690 - val_precision: 0.9794 - val_recall: 0.9794\n",
            "Epoch 5/7\n",
            "\u001b[1m251/251\u001b[0m \u001b[32m━━━━━━━━━━━━━━━━━━━━\u001b[0m\u001b[37m\u001b[0m \u001b[1m11s\u001b[0m 33ms/step - loss: 0.0448 - precision: 0.9885 - recall: 0.9885 - val_loss: 0.0546 - val_precision: 0.9857 - val_recall: 0.9857\n",
            "Epoch 6/7\n",
            "\u001b[1m251/251\u001b[0m \u001b[32m━━━━━━━━━━━━━━━━━━━━\u001b[0m\u001b[37m\u001b[0m \u001b[1m8s\u001b[0m 32ms/step - loss: 0.0418 - precision: 0.9903 - recall: 0.9903 - val_loss: 0.0527 - val_precision: 0.9878 - val_recall: 0.9878\n",
            "Epoch 7/7\n",
            "\u001b[1m251/251\u001b[0m \u001b[32m━━━━━━━━━━━━━━━━━━━━\u001b[0m\u001b[37m\u001b[0m \u001b[1m10s\u001b[0m 33ms/step - loss: 0.0366 - precision: 0.9917 - recall: 0.9917 - val_loss: 0.0570 - val_precision: 0.9857 - val_recall: 0.9857\n"
          ]
        },
        {
          "data": {
            "text/plain": [
              "<keras.src.callbacks.history.History at 0x7b331f5c94b0>"
            ]
          },
          "execution_count": 18,
          "metadata": {},
          "output_type": "execute_result"
        }
      ],
      "source": [
        "# Training\n",
        "model.fit(X_train_split, Y_train_split, validation_split=0.25, epochs=7, batch_size=128, callbacks=[])"
      ]
    },
    {
      "cell_type": "code",
      "execution_count": null,
      "metadata": {
        "colab": {
          "base_uri": "https://localhost:8080/"
        },
        "id": "UDIzTjMggBcx",
        "outputId": "5247c455-2ae9-4e15-e645-3218af337762"
      },
      "outputs": [
        {
          "name": "stdout",
          "output_type": "stream",
          "text": [
            "\u001b[1m573/573\u001b[0m \u001b[32m━━━━━━━━━━━━━━━━━━━━\u001b[0m\u001b[37m\u001b[0m \u001b[1m2s\u001b[0m 3ms/step\n",
            "              precision    recall  f1-score   support\n",
            "\n",
            "           0       0.98      1.00      0.99     10759\n",
            "           1       1.00      0.97      0.98      7561\n",
            "\n",
            "    accuracy                           0.98     18320\n",
            "   macro avg       0.99      0.98      0.98     18320\n",
            "weighted avg       0.99      0.98      0.98     18320\n",
            "\n"
          ]
        }
      ],
      "source": [
        "import numpy as np\n",
        "import matplotlib.pyplot as plt\n",
        "import seaborn as sns\n",
        "from sklearn.model_selection import train_test_split\n",
        "from sklearn.metrics import confusion_matrix, classification_report, roc_auc_score\n",
        "\n",
        "# Dự đoán trên tập test\n",
        "y_pred = model.predict(X_test_split)\n",
        "y_pred_classes = np.argmax(y_pred, axis=1)  # Chọn nhãn dự đoán có xác suất cao nhất\n",
        "y_true_classes = np.argmax(Y_test_split, axis=1)  # Chuyển y_test về dạng nhãn ban đầu (nếu là one-hot)\n",
        "\n",
        "\n",
        "print(classification_report(y_true_classes, y_pred_classes))\n"
      ]
    },
    {
      "cell_type": "code",
      "execution_count": null,
      "metadata": {
        "colab": {
          "base_uri": "https://localhost:8080/"
        },
        "id": "IOuaeBu29Gl4",
        "outputId": "783e1781-1ac5-454b-ffcf-51ec063534ca"
      },
      "outputs": [
        {
          "name": "stderr",
          "output_type": "stream",
          "text": [
            "WARNING:absl:You are saving your model as an HDF5 file via `model.save()` or `keras.saving.save_model(model)`. This file format is considered legacy. We recommend using instead the native Keras format, e.g. `model.save('my_model.keras')` or `keras.saving.save_model(model, 'my_model.keras')`. \n"
          ]
        }
      ],
      "source": [
        "# Save the model\n",
        "model.save(base_path + 'test_detector.h5')"
      ]
    },
    {
      "cell_type": "code",
      "execution_count": null,
      "metadata": {
        "colab": {
          "base_uri": "https://localhost:8080/"
        },
        "id": "1xz2tpSivplA",
        "outputId": "c394dd8f-4db8-4e77-fac2-98f2dac11e48"
      },
      "outputs": [
        {
          "name": "stderr",
          "output_type": "stream",
          "text": [
            "WARNING:absl:Compiled the loaded model, but the compiled metrics have yet to be built. `model.compile_metrics` will be empty until you train or evaluate the model.\n"
          ]
        }
      ],
      "source": [
        "# Load model\n",
        "model = load_model(base_path + 'test_detector.h5')"
      ]
    },
    {
      "cell_type": "code",
      "execution_count": null,
      "metadata": {
        "id": "BAYixepruUop"
      },
      "outputs": [],
      "source": [
        "from sklearn.metrics import RocCurveDisplay"
      ]
    },
    {
      "cell_type": "code",
      "execution_count": null,
      "metadata": {
        "colab": {
          "base_uri": "https://localhost:8080/",
          "height": 581
        },
        "id": "1XcLhwQbugcx",
        "outputId": "d29244eb-4f23-418e-a441-e946b391132f"
      },
      "outputs": [
        {
          "name": "stdout",
          "output_type": "stream",
          "text": [
            "\u001b[1m573/573\u001b[0m \u001b[32m━━━━━━━━━━━━━━━━━━━━\u001b[0m\u001b[37m\u001b[0m \u001b[1m1s\u001b[0m 2ms/step\n"
          ]
        },
        {
          "data": {
            "image/png": "[encoded data removed]",
            "text/plain": [
              "<Figure size 800x600 with 1 Axes>"
            ]
          },
          "metadata": {},
          "output_type": "display_data"
        }
      ],
      "source": [
        "import numpy as np\n",
        "from sklearn.metrics import roc_curve, auc\n",
        "import matplotlib.pyplot as plt\n",
        "\n",
        "# Kiểm tra nếu Y_test_split là one-hot encoding, chuyển về nhãn gốc\n",
        "if len(Y_test_split.shape) > 1 and Y_test_split.shape[1] > 1:\n",
        "    Y_test_split_single = np.argmax(Y_test_split, axis=1)\n",
        "else:\n",
        "    Y_test_split_single = Y_test_split\n",
        "\n",
        "# Dự đoán xác suất từ mô hình\n",
        "y_pred_proba = model.predict(X_test_split)\n",
        "\n",
        "# Nếu đầu ra là softmax (nhiều lớp), chỉ lấy xác suất của lớp dương (lớp 1)\n",
        "if y_pred_proba.shape[1] > 1:  # Softmax\n",
        "    y_pred_proba = y_pred_proba[:, 1]\n",
        "\n",
        "# Tính FPR, TPR và AUC\n",
        "fpr, tpr, _ = roc_curve(Y_test_split_single, y_pred_proba)\n",
        "roc_auc = auc(fpr, tpr)\n",
        "\n",
        "# Vẽ biểu đồ ROC\n",
        "plt.figure(figsize=(8, 6))\n",
        "plt.plot(fpr, tpr, color='darkorange', lw=2, label=f'ROC curve (area = {roc_auc:.4f})')\n",
        "plt.plot([0, 1], [0, 1], color='navy', lw=2, linestyle='--', label='Random guess')\n",
        "plt.xlabel('False Positive Rate')\n",
        "plt.ylabel('True Positive Rate')\n",
        "plt.title('ROC Curve for CNN Model')\n",
        "plt.legend(loc=\"lower right\")\n",
        "plt.show()\n"
      ]
    },
    {
      "cell_type": "code",
      "execution_count": null,
      "metadata": {
        "id": "C7VWy2dbLE4j"
      },
      "outputs": [],
      "source": []
    }
  ],
  "metadata": {
    "accelerator": "GPU",
    "colab": {
      "gpuType": "T4",
      "provenance": []
    },
    "kernelspec": {
      "display_name": "Python 3",
      "name": "python3"
    },
    "language_info": {
      "codemirror_mode": {
        "name": "ipython",
        "version": 3
      },
      "file_extension": ".py",
      "mimetype": "text/x-python",
      "name": "python",
      "nbconvert_exporter": "python",
      "pygments_lexer": "ipython3",
      "version": "3.6.5"
    }
  },
  "nbformat": 4,
  "nbformat_minor": 0
}
